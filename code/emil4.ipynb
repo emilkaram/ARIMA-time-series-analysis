{
 "cells": [
  {
   "cell_type": "markdown",
   "metadata": {},
   "source": [
    "### import lib"
   ]
  },
  {
   "cell_type": "code",
   "execution_count": 1,
   "metadata": {},
   "outputs": [],
   "source": [
    "import warnings\n",
    "import datetime\n",
    "import itertools\n",
    "import numpy as np\n",
    "import matplotlib.pyplot as plt\n",
    "warnings.filterwarnings(\"ignore\")\n",
    "plt.style.use('fivethirtyeight')\n",
    "import pandas as pd\n",
    "import statsmodels.api as sm\n",
    "import matplotlib\n",
    "matplotlib.rcParams['axes.labelsize'] = 14\n",
    "matplotlib.rcParams['xtick.labelsize'] = 12\n",
    "matplotlib.rcParams['ytick.labelsize'] = 12\n",
    "matplotlib.rcParams['text.color'] = 'k'"
   ]
  },
  {
   "cell_type": "markdown",
   "metadata": {},
   "source": [
    "### Read data frame"
   ]
  },
  {
   "cell_type": "code",
   "execution_count": 2,
   "metadata": {},
   "outputs": [],
   "source": [
    "df = pd.read_csv('Annual_traffic.csv')"
   ]
  },
  {
   "cell_type": "markdown",
   "metadata": {},
   "source": [
    "### initial analysis and data pre-proc"
   ]
  },
  {
   "cell_type": "code",
   "execution_count": 3,
   "metadata": {},
   "outputs": [
    {
     "data": {
      "text/html": [
       "<div>\n",
       "<style scoped>\n",
       "    .dataframe tbody tr th:only-of-type {\n",
       "        vertical-align: middle;\n",
       "    }\n",
       "\n",
       "    .dataframe tbody tr th {\n",
       "        vertical-align: top;\n",
       "    }\n",
       "\n",
       "    .dataframe thead th {\n",
       "        text-align: right;\n",
       "    }\n",
       "</style>\n",
       "<table border=\"1\" class=\"dataframe\">\n",
       "  <thead>\n",
       "    <tr style=\"text-align: right;\">\n",
       "      <th></th>\n",
       "      <th>Sector / eSector</th>\n",
       "      <th>Nodeb/eNodeb Engineering Num</th>\n",
       "      <th>Unnamed: 2</th>\n",
       "      <th>Year - Calendar</th>\n",
       "      <th>Week - Calendar</th>\n",
       "      <th>National_PDCP_VOL_TOT_MB</th>\n",
       "      <th>HSPA_TOT_MB</th>\n",
       "    </tr>\n",
       "  </thead>\n",
       "  <tbody>\n",
       "    <tr>\n",
       "      <th>0</th>\n",
       "      <td>1</td>\n",
       "      <td>[NOT_AVAILABLE]</td>\n",
       "      <td>Rogers Arena (Ib)</td>\n",
       "      <td>2016</td>\n",
       "      <td>1</td>\n",
       "      <td>342,013</td>\n",
       "      <td>194,515</td>\n",
       "    </tr>\n",
       "    <tr>\n",
       "      <th>1</th>\n",
       "      <td>1</td>\n",
       "      <td>[NOT_AVAILABLE]</td>\n",
       "      <td>Rogers Arena (Ib)</td>\n",
       "      <td>2016</td>\n",
       "      <td>2</td>\n",
       "      <td>1,070,674</td>\n",
       "      <td>754,640</td>\n",
       "    </tr>\n",
       "    <tr>\n",
       "      <th>2</th>\n",
       "      <td>1</td>\n",
       "      <td>[NOT_AVAILABLE]</td>\n",
       "      <td>Rogers Arena (Ib)</td>\n",
       "      <td>2016</td>\n",
       "      <td>3</td>\n",
       "      <td>1,138,146</td>\n",
       "      <td>805,992</td>\n",
       "    </tr>\n",
       "    <tr>\n",
       "      <th>3</th>\n",
       "      <td>1</td>\n",
       "      <td>[NOT_AVAILABLE]</td>\n",
       "      <td>Rogers Arena (Ib)</td>\n",
       "      <td>2016</td>\n",
       "      <td>4</td>\n",
       "      <td>1,127,209</td>\n",
       "      <td>808,013</td>\n",
       "    </tr>\n",
       "    <tr>\n",
       "      <th>4</th>\n",
       "      <td>1</td>\n",
       "      <td>[NOT_AVAILABLE]</td>\n",
       "      <td>Rogers Arena (Ib)</td>\n",
       "      <td>2016</td>\n",
       "      <td>5</td>\n",
       "      <td>1,059,499</td>\n",
       "      <td>807,457</td>\n",
       "    </tr>\n",
       "  </tbody>\n",
       "</table>\n",
       "</div>"
      ],
      "text/plain": [
       "   Sector / eSector Nodeb/eNodeb Engineering Num         Unnamed: 2  \\\n",
       "0                 1              [NOT_AVAILABLE]  Rogers Arena (Ib)   \n",
       "1                 1              [NOT_AVAILABLE]  Rogers Arena (Ib)   \n",
       "2                 1              [NOT_AVAILABLE]  Rogers Arena (Ib)   \n",
       "3                 1              [NOT_AVAILABLE]  Rogers Arena (Ib)   \n",
       "4                 1              [NOT_AVAILABLE]  Rogers Arena (Ib)   \n",
       "\n",
       "   Year - Calendar  Week - Calendar National_PDCP_VOL_TOT_MB HSPA_TOT_MB  \n",
       "0             2016                1                  342,013     194,515  \n",
       "1             2016                2                1,070,674     754,640  \n",
       "2             2016                3                1,138,146     805,992  \n",
       "3             2016                4                1,127,209     808,013  \n",
       "4             2016                5                1,059,499     807,457  "
      ]
     },
     "execution_count": 3,
     "metadata": {},
     "output_type": "execute_result"
    }
   ],
   "source": [
    "df.head()"
   ]
  },
  {
   "cell_type": "code",
   "execution_count": 4,
   "metadata": {},
   "outputs": [
    {
     "data": {
      "text/html": [
       "<div>\n",
       "<style scoped>\n",
       "    .dataframe tbody tr th:only-of-type {\n",
       "        vertical-align: middle;\n",
       "    }\n",
       "\n",
       "    .dataframe tbody tr th {\n",
       "        vertical-align: top;\n",
       "    }\n",
       "\n",
       "    .dataframe thead th {\n",
       "        text-align: right;\n",
       "    }\n",
       "</style>\n",
       "<table border=\"1\" class=\"dataframe\">\n",
       "  <thead>\n",
       "    <tr style=\"text-align: right;\">\n",
       "      <th></th>\n",
       "      <th>Sector / eSector</th>\n",
       "      <th>Nodeb/eNodeb Engineering Num</th>\n",
       "      <th>Unnamed: 2</th>\n",
       "      <th>Year - Calendar</th>\n",
       "      <th>Week - Calendar</th>\n",
       "      <th>National_PDCP_VOL_TOT_MB</th>\n",
       "      <th>HSPA_TOT_MB</th>\n",
       "    </tr>\n",
       "  </thead>\n",
       "  <tbody>\n",
       "    <tr>\n",
       "      <th>4558328</th>\n",
       "      <td>3</td>\n",
       "      <td>YONGSK03</td>\n",
       "      <td>Young</td>\n",
       "      <td>2018</td>\n",
       "      <td>49</td>\n",
       "      <td>0</td>\n",
       "      <td>15,993</td>\n",
       "    </tr>\n",
       "    <tr>\n",
       "      <th>4558329</th>\n",
       "      <td>3</td>\n",
       "      <td>YONGSK03</td>\n",
       "      <td>Young</td>\n",
       "      <td>2018</td>\n",
       "      <td>50</td>\n",
       "      <td>0</td>\n",
       "      <td>19,474</td>\n",
       "    </tr>\n",
       "    <tr>\n",
       "      <th>4558330</th>\n",
       "      <td>3</td>\n",
       "      <td>YONGSK03</td>\n",
       "      <td>Young</td>\n",
       "      <td>2018</td>\n",
       "      <td>51</td>\n",
       "      <td>0</td>\n",
       "      <td>18,473</td>\n",
       "    </tr>\n",
       "    <tr>\n",
       "      <th>4558331</th>\n",
       "      <td>3</td>\n",
       "      <td>YONGSK03</td>\n",
       "      <td>Young</td>\n",
       "      <td>2018</td>\n",
       "      <td>52</td>\n",
       "      <td>0</td>\n",
       "      <td>13,494</td>\n",
       "    </tr>\n",
       "    <tr>\n",
       "      <th>4558332</th>\n",
       "      <td>3</td>\n",
       "      <td>YONGSK03</td>\n",
       "      <td>Young</td>\n",
       "      <td>2018</td>\n",
       "      <td>53</td>\n",
       "      <td>0</td>\n",
       "      <td>4,144</td>\n",
       "    </tr>\n",
       "  </tbody>\n",
       "</table>\n",
       "</div>"
      ],
      "text/plain": [
       "         Sector / eSector Nodeb/eNodeb Engineering Num Unnamed: 2  \\\n",
       "4558328                 3                     YONGSK03      Young   \n",
       "4558329                 3                     YONGSK03      Young   \n",
       "4558330                 3                     YONGSK03      Young   \n",
       "4558331                 3                     YONGSK03      Young   \n",
       "4558332                 3                     YONGSK03      Young   \n",
       "\n",
       "         Year - Calendar  Week - Calendar National_PDCP_VOL_TOT_MB HSPA_TOT_MB  \n",
       "4558328             2018               49                        0      15,993  \n",
       "4558329             2018               50                        0      19,474  \n",
       "4558330             2018               51                        0      18,473  \n",
       "4558331             2018               52                        0      13,494  \n",
       "4558332             2018               53                        0       4,144  "
      ]
     },
     "execution_count": 4,
     "metadata": {},
     "output_type": "execute_result"
    }
   ],
   "source": [
    "df.tail()"
   ]
  },
  {
   "cell_type": "code",
   "execution_count": 5,
   "metadata": {},
   "outputs": [
    {
     "data": {
      "text/plain": [
       "(4558333, 7)"
      ]
     },
     "execution_count": 5,
     "metadata": {},
     "output_type": "execute_result"
    }
   ],
   "source": [
    "df.shape"
   ]
  },
  {
   "cell_type": "code",
   "execution_count": 6,
   "metadata": {},
   "outputs": [
    {
     "data": {
      "text/plain": [
       "Index(['Sector / eSector', 'Nodeb/eNodeb Engineering Num', 'Unnamed: 2',\n",
       "       'Year - Calendar', 'Week - Calendar', 'National_PDCP_VOL_TOT_MB',\n",
       "       'HSPA_TOT_MB'],\n",
       "      dtype='object')"
      ]
     },
     "execution_count": 6,
     "metadata": {},
     "output_type": "execute_result"
    }
   ],
   "source": [
    "df.columns"
   ]
  },
  {
   "cell_type": "code",
   "execution_count": 7,
   "metadata": {},
   "outputs": [],
   "source": [
    "df.columns = [c.replace(' ', '_') for c in df.columns]\n",
    "df.columns = [c.replace('/', '_') for c in df.columns]\n",
    "df.columns = [c.replace('__', '_') for c in df.columns]\n",
    "df.columns = [c.replace('_-_', '_') for c in df.columns]"
   ]
  },
  {
   "cell_type": "code",
   "execution_count": 8,
   "metadata": {},
   "outputs": [
    {
     "data": {
      "text/plain": [
       "Index(['Sector__eSector', 'Nodeb_eNodeb_Engineering_Num', 'Unnamed:_2',\n",
       "       'Year_Calendar', 'Week_Calendar', 'National_PDCP_VOL_TOT_MB',\n",
       "       'HSPA_TOT_MB'],\n",
       "      dtype='object')"
      ]
     },
     "execution_count": 8,
     "metadata": {},
     "output_type": "execute_result"
    }
   ],
   "source": [
    "df.columns"
   ]
  },
  {
   "cell_type": "markdown",
   "metadata": {},
   "source": [
    "### filter data frame on the serving site W3969"
   ]
  },
  {
   "cell_type": "code",
   "execution_count": 9,
   "metadata": {},
   "outputs": [
    {
     "data": {
      "text/html": [
       "<div>\n",
       "<style scoped>\n",
       "    .dataframe tbody tr th:only-of-type {\n",
       "        vertical-align: middle;\n",
       "    }\n",
       "\n",
       "    .dataframe tbody tr th {\n",
       "        vertical-align: top;\n",
       "    }\n",
       "\n",
       "    .dataframe thead th {\n",
       "        text-align: right;\n",
       "    }\n",
       "</style>\n",
       "<table border=\"1\" class=\"dataframe\">\n",
       "  <thead>\n",
       "    <tr style=\"text-align: right;\">\n",
       "      <th></th>\n",
       "      <th>Sector__eSector</th>\n",
       "      <th>Nodeb_eNodeb_Engineering_Num</th>\n",
       "      <th>Unnamed:_2</th>\n",
       "      <th>Year_Calendar</th>\n",
       "      <th>Week_Calendar</th>\n",
       "      <th>National_PDCP_VOL_TOT_MB</th>\n",
       "      <th>HSPA_TOT_MB</th>\n",
       "    </tr>\n",
       "  </thead>\n",
       "  <tbody>\n",
       "    <tr>\n",
       "      <th>1791041</th>\n",
       "      <td>1</td>\n",
       "      <td>W3969</td>\n",
       "      <td>Wadsworth</td>\n",
       "      <td>2016</td>\n",
       "      <td>1</td>\n",
       "      <td>0</td>\n",
       "      <td>8,154</td>\n",
       "    </tr>\n",
       "    <tr>\n",
       "      <th>1791042</th>\n",
       "      <td>1</td>\n",
       "      <td>W3969</td>\n",
       "      <td>Wadsworth</td>\n",
       "      <td>2016</td>\n",
       "      <td>2</td>\n",
       "      <td>0</td>\n",
       "      <td>53,147</td>\n",
       "    </tr>\n",
       "    <tr>\n",
       "      <th>1791043</th>\n",
       "      <td>1</td>\n",
       "      <td>W3969</td>\n",
       "      <td>Wadsworth</td>\n",
       "      <td>2016</td>\n",
       "      <td>3</td>\n",
       "      <td>0</td>\n",
       "      <td>62,314</td>\n",
       "    </tr>\n",
       "    <tr>\n",
       "      <th>1791044</th>\n",
       "      <td>1</td>\n",
       "      <td>W3969</td>\n",
       "      <td>Wadsworth</td>\n",
       "      <td>2016</td>\n",
       "      <td>4</td>\n",
       "      <td>0</td>\n",
       "      <td>59,403</td>\n",
       "    </tr>\n",
       "    <tr>\n",
       "      <th>1791045</th>\n",
       "      <td>1</td>\n",
       "      <td>W3969</td>\n",
       "      <td>Wadsworth</td>\n",
       "      <td>2016</td>\n",
       "      <td>5</td>\n",
       "      <td>0</td>\n",
       "      <td>75,371</td>\n",
       "    </tr>\n",
       "    <tr>\n",
       "      <th>1791046</th>\n",
       "      <td>1</td>\n",
       "      <td>W3969</td>\n",
       "      <td>Wadsworth</td>\n",
       "      <td>2016</td>\n",
       "      <td>6</td>\n",
       "      <td>0</td>\n",
       "      <td>68,504</td>\n",
       "    </tr>\n",
       "    <tr>\n",
       "      <th>1791047</th>\n",
       "      <td>1</td>\n",
       "      <td>W3969</td>\n",
       "      <td>Wadsworth</td>\n",
       "      <td>2016</td>\n",
       "      <td>7</td>\n",
       "      <td>0</td>\n",
       "      <td>63,960</td>\n",
       "    </tr>\n",
       "    <tr>\n",
       "      <th>1791048</th>\n",
       "      <td>1</td>\n",
       "      <td>W3969</td>\n",
       "      <td>Wadsworth</td>\n",
       "      <td>2016</td>\n",
       "      <td>8</td>\n",
       "      <td>0</td>\n",
       "      <td>43,263</td>\n",
       "    </tr>\n",
       "    <tr>\n",
       "      <th>1791049</th>\n",
       "      <td>1</td>\n",
       "      <td>W3969</td>\n",
       "      <td>Wadsworth</td>\n",
       "      <td>2016</td>\n",
       "      <td>9</td>\n",
       "      <td>0</td>\n",
       "      <td>54,291</td>\n",
       "    </tr>\n",
       "    <tr>\n",
       "      <th>1791050</th>\n",
       "      <td>1</td>\n",
       "      <td>W3969</td>\n",
       "      <td>Wadsworth</td>\n",
       "      <td>2016</td>\n",
       "      <td>10</td>\n",
       "      <td>0</td>\n",
       "      <td>54,005</td>\n",
       "    </tr>\n",
       "    <tr>\n",
       "      <th>1791051</th>\n",
       "      <td>1</td>\n",
       "      <td>W3969</td>\n",
       "      <td>Wadsworth</td>\n",
       "      <td>2016</td>\n",
       "      <td>11</td>\n",
       "      <td>0</td>\n",
       "      <td>51,256</td>\n",
       "    </tr>\n",
       "    <tr>\n",
       "      <th>1791052</th>\n",
       "      <td>1</td>\n",
       "      <td>W3969</td>\n",
       "      <td>Wadsworth</td>\n",
       "      <td>2016</td>\n",
       "      <td>12</td>\n",
       "      <td>0</td>\n",
       "      <td>40,077</td>\n",
       "    </tr>\n",
       "    <tr>\n",
       "      <th>1791053</th>\n",
       "      <td>1</td>\n",
       "      <td>W3969</td>\n",
       "      <td>Wadsworth</td>\n",
       "      <td>2016</td>\n",
       "      <td>13</td>\n",
       "      <td>0</td>\n",
       "      <td>41,304</td>\n",
       "    </tr>\n",
       "    <tr>\n",
       "      <th>1791054</th>\n",
       "      <td>1</td>\n",
       "      <td>W3969</td>\n",
       "      <td>Wadsworth</td>\n",
       "      <td>2016</td>\n",
       "      <td>14</td>\n",
       "      <td>0</td>\n",
       "      <td>53,938</td>\n",
       "    </tr>\n",
       "    <tr>\n",
       "      <th>1791055</th>\n",
       "      <td>1</td>\n",
       "      <td>W3969</td>\n",
       "      <td>Wadsworth</td>\n",
       "      <td>2016</td>\n",
       "      <td>15</td>\n",
       "      <td>0</td>\n",
       "      <td>57,421</td>\n",
       "    </tr>\n",
       "    <tr>\n",
       "      <th>1791056</th>\n",
       "      <td>1</td>\n",
       "      <td>W3969</td>\n",
       "      <td>Wadsworth</td>\n",
       "      <td>2016</td>\n",
       "      <td>16</td>\n",
       "      <td>0</td>\n",
       "      <td>48,729</td>\n",
       "    </tr>\n",
       "    <tr>\n",
       "      <th>1791057</th>\n",
       "      <td>1</td>\n",
       "      <td>W3969</td>\n",
       "      <td>Wadsworth</td>\n",
       "      <td>2016</td>\n",
       "      <td>17</td>\n",
       "      <td>0</td>\n",
       "      <td>51,503</td>\n",
       "    </tr>\n",
       "    <tr>\n",
       "      <th>1791058</th>\n",
       "      <td>1</td>\n",
       "      <td>W3969</td>\n",
       "      <td>Wadsworth</td>\n",
       "      <td>2016</td>\n",
       "      <td>18</td>\n",
       "      <td>0</td>\n",
       "      <td>50,593</td>\n",
       "    </tr>\n",
       "    <tr>\n",
       "      <th>1791059</th>\n",
       "      <td>1</td>\n",
       "      <td>W3969</td>\n",
       "      <td>Wadsworth</td>\n",
       "      <td>2016</td>\n",
       "      <td>19</td>\n",
       "      <td>0</td>\n",
       "      <td>59,330</td>\n",
       "    </tr>\n",
       "    <tr>\n",
       "      <th>1791060</th>\n",
       "      <td>1</td>\n",
       "      <td>W3969</td>\n",
       "      <td>Wadsworth</td>\n",
       "      <td>2016</td>\n",
       "      <td>20</td>\n",
       "      <td>0</td>\n",
       "      <td>63,002</td>\n",
       "    </tr>\n",
       "    <tr>\n",
       "      <th>1791061</th>\n",
       "      <td>1</td>\n",
       "      <td>W3969</td>\n",
       "      <td>Wadsworth</td>\n",
       "      <td>2016</td>\n",
       "      <td>21</td>\n",
       "      <td>0</td>\n",
       "      <td>52,285</td>\n",
       "    </tr>\n",
       "    <tr>\n",
       "      <th>1791062</th>\n",
       "      <td>1</td>\n",
       "      <td>W3969</td>\n",
       "      <td>Wadsworth</td>\n",
       "      <td>2016</td>\n",
       "      <td>22</td>\n",
       "      <td>0</td>\n",
       "      <td>52,200</td>\n",
       "    </tr>\n",
       "    <tr>\n",
       "      <th>1791063</th>\n",
       "      <td>1</td>\n",
       "      <td>W3969</td>\n",
       "      <td>Wadsworth</td>\n",
       "      <td>2016</td>\n",
       "      <td>23</td>\n",
       "      <td>0</td>\n",
       "      <td>69,663</td>\n",
       "    </tr>\n",
       "    <tr>\n",
       "      <th>1791064</th>\n",
       "      <td>1</td>\n",
       "      <td>W3969</td>\n",
       "      <td>Wadsworth</td>\n",
       "      <td>2016</td>\n",
       "      <td>24</td>\n",
       "      <td>0</td>\n",
       "      <td>62,431</td>\n",
       "    </tr>\n",
       "    <tr>\n",
       "      <th>1791065</th>\n",
       "      <td>1</td>\n",
       "      <td>W3969</td>\n",
       "      <td>Wadsworth</td>\n",
       "      <td>2016</td>\n",
       "      <td>25</td>\n",
       "      <td>0</td>\n",
       "      <td>54,568</td>\n",
       "    </tr>\n",
       "    <tr>\n",
       "      <th>1791066</th>\n",
       "      <td>1</td>\n",
       "      <td>W3969</td>\n",
       "      <td>Wadsworth</td>\n",
       "      <td>2016</td>\n",
       "      <td>26</td>\n",
       "      <td>0</td>\n",
       "      <td>60,171</td>\n",
       "    </tr>\n",
       "    <tr>\n",
       "      <th>1791067</th>\n",
       "      <td>1</td>\n",
       "      <td>W3969</td>\n",
       "      <td>Wadsworth</td>\n",
       "      <td>2016</td>\n",
       "      <td>27</td>\n",
       "      <td>0</td>\n",
       "      <td>80,966</td>\n",
       "    </tr>\n",
       "    <tr>\n",
       "      <th>1791068</th>\n",
       "      <td>1</td>\n",
       "      <td>W3969</td>\n",
       "      <td>Wadsworth</td>\n",
       "      <td>2016</td>\n",
       "      <td>28</td>\n",
       "      <td>0</td>\n",
       "      <td>103,729</td>\n",
       "    </tr>\n",
       "    <tr>\n",
       "      <th>1791069</th>\n",
       "      <td>1</td>\n",
       "      <td>W3969</td>\n",
       "      <td>Wadsworth</td>\n",
       "      <td>2016</td>\n",
       "      <td>29</td>\n",
       "      <td>0</td>\n",
       "      <td>87,029</td>\n",
       "    </tr>\n",
       "    <tr>\n",
       "      <th>1791070</th>\n",
       "      <td>1</td>\n",
       "      <td>W3969</td>\n",
       "      <td>Wadsworth</td>\n",
       "      <td>2016</td>\n",
       "      <td>30</td>\n",
       "      <td>0</td>\n",
       "      <td>80,267</td>\n",
       "    </tr>\n",
       "    <tr>\n",
       "      <th>...</th>\n",
       "      <td>...</td>\n",
       "      <td>...</td>\n",
       "      <td>...</td>\n",
       "      <td>...</td>\n",
       "      <td>...</td>\n",
       "      <td>...</td>\n",
       "      <td>...</td>\n",
       "    </tr>\n",
       "    <tr>\n",
       "      <th>4468812</th>\n",
       "      <td>3</td>\n",
       "      <td>W3969</td>\n",
       "      <td>Wadsworth</td>\n",
       "      <td>2018</td>\n",
       "      <td>24</td>\n",
       "      <td>95,921</td>\n",
       "      <td>4,965</td>\n",
       "    </tr>\n",
       "    <tr>\n",
       "      <th>4468813</th>\n",
       "      <td>3</td>\n",
       "      <td>W3969</td>\n",
       "      <td>Wadsworth</td>\n",
       "      <td>2018</td>\n",
       "      <td>25</td>\n",
       "      <td>93,187</td>\n",
       "      <td>5,181</td>\n",
       "    </tr>\n",
       "    <tr>\n",
       "      <th>4468814</th>\n",
       "      <td>3</td>\n",
       "      <td>W3969</td>\n",
       "      <td>Wadsworth</td>\n",
       "      <td>2018</td>\n",
       "      <td>26</td>\n",
       "      <td>91,196</td>\n",
       "      <td>4,723</td>\n",
       "    </tr>\n",
       "    <tr>\n",
       "      <th>4468815</th>\n",
       "      <td>3</td>\n",
       "      <td>W3969</td>\n",
       "      <td>Wadsworth</td>\n",
       "      <td>2018</td>\n",
       "      <td>27</td>\n",
       "      <td>98,938</td>\n",
       "      <td>4,883</td>\n",
       "    </tr>\n",
       "    <tr>\n",
       "      <th>4468816</th>\n",
       "      <td>3</td>\n",
       "      <td>W3969</td>\n",
       "      <td>Wadsworth</td>\n",
       "      <td>2018</td>\n",
       "      <td>28</td>\n",
       "      <td>121,014</td>\n",
       "      <td>5,407</td>\n",
       "    </tr>\n",
       "    <tr>\n",
       "      <th>4468817</th>\n",
       "      <td>3</td>\n",
       "      <td>W3969</td>\n",
       "      <td>Wadsworth</td>\n",
       "      <td>2018</td>\n",
       "      <td>29</td>\n",
       "      <td>144,244</td>\n",
       "      <td>6,479</td>\n",
       "    </tr>\n",
       "    <tr>\n",
       "      <th>4468818</th>\n",
       "      <td>3</td>\n",
       "      <td>W3969</td>\n",
       "      <td>Wadsworth</td>\n",
       "      <td>2018</td>\n",
       "      <td>30</td>\n",
       "      <td>112,416</td>\n",
       "      <td>4,716</td>\n",
       "    </tr>\n",
       "    <tr>\n",
       "      <th>4468819</th>\n",
       "      <td>3</td>\n",
       "      <td>W3969</td>\n",
       "      <td>Wadsworth</td>\n",
       "      <td>2018</td>\n",
       "      <td>31</td>\n",
       "      <td>92,496</td>\n",
       "      <td>5,535</td>\n",
       "    </tr>\n",
       "    <tr>\n",
       "      <th>4468820</th>\n",
       "      <td>3</td>\n",
       "      <td>W3969</td>\n",
       "      <td>Wadsworth</td>\n",
       "      <td>2018</td>\n",
       "      <td>32</td>\n",
       "      <td>81,280</td>\n",
       "      <td>5,700</td>\n",
       "    </tr>\n",
       "    <tr>\n",
       "      <th>4468821</th>\n",
       "      <td>3</td>\n",
       "      <td>W3969</td>\n",
       "      <td>Wadsworth</td>\n",
       "      <td>2018</td>\n",
       "      <td>33</td>\n",
       "      <td>87,929</td>\n",
       "      <td>5,512</td>\n",
       "    </tr>\n",
       "    <tr>\n",
       "      <th>4468822</th>\n",
       "      <td>3</td>\n",
       "      <td>W3969</td>\n",
       "      <td>Wadsworth</td>\n",
       "      <td>2018</td>\n",
       "      <td>34</td>\n",
       "      <td>96,177</td>\n",
       "      <td>5,620</td>\n",
       "    </tr>\n",
       "    <tr>\n",
       "      <th>4468823</th>\n",
       "      <td>3</td>\n",
       "      <td>W3969</td>\n",
       "      <td>Wadsworth</td>\n",
       "      <td>2018</td>\n",
       "      <td>35</td>\n",
       "      <td>95,949</td>\n",
       "      <td>5,270</td>\n",
       "    </tr>\n",
       "    <tr>\n",
       "      <th>4468824</th>\n",
       "      <td>3</td>\n",
       "      <td>W3969</td>\n",
       "      <td>Wadsworth</td>\n",
       "      <td>2018</td>\n",
       "      <td>36</td>\n",
       "      <td>86,557</td>\n",
       "      <td>4,448</td>\n",
       "    </tr>\n",
       "    <tr>\n",
       "      <th>4468825</th>\n",
       "      <td>3</td>\n",
       "      <td>W3969</td>\n",
       "      <td>Wadsworth</td>\n",
       "      <td>2018</td>\n",
       "      <td>37</td>\n",
       "      <td>75,599</td>\n",
       "      <td>6,252</td>\n",
       "    </tr>\n",
       "    <tr>\n",
       "      <th>4468826</th>\n",
       "      <td>3</td>\n",
       "      <td>W3969</td>\n",
       "      <td>Wadsworth</td>\n",
       "      <td>2018</td>\n",
       "      <td>38</td>\n",
       "      <td>76,589</td>\n",
       "      <td>5,004</td>\n",
       "    </tr>\n",
       "    <tr>\n",
       "      <th>4468827</th>\n",
       "      <td>3</td>\n",
       "      <td>W3969</td>\n",
       "      <td>Wadsworth</td>\n",
       "      <td>2018</td>\n",
       "      <td>39</td>\n",
       "      <td>81,011</td>\n",
       "      <td>4,542</td>\n",
       "    </tr>\n",
       "    <tr>\n",
       "      <th>4468828</th>\n",
       "      <td>3</td>\n",
       "      <td>W3969</td>\n",
       "      <td>Wadsworth</td>\n",
       "      <td>2018</td>\n",
       "      <td>40</td>\n",
       "      <td>91,357</td>\n",
       "      <td>4,040</td>\n",
       "    </tr>\n",
       "    <tr>\n",
       "      <th>4468829</th>\n",
       "      <td>3</td>\n",
       "      <td>W3969</td>\n",
       "      <td>Wadsworth</td>\n",
       "      <td>2018</td>\n",
       "      <td>41</td>\n",
       "      <td>91,338</td>\n",
       "      <td>4,723</td>\n",
       "    </tr>\n",
       "    <tr>\n",
       "      <th>4468830</th>\n",
       "      <td>3</td>\n",
       "      <td>W3969</td>\n",
       "      <td>Wadsworth</td>\n",
       "      <td>2018</td>\n",
       "      <td>42</td>\n",
       "      <td>87,464</td>\n",
       "      <td>3,188</td>\n",
       "    </tr>\n",
       "    <tr>\n",
       "      <th>4468831</th>\n",
       "      <td>3</td>\n",
       "      <td>W3969</td>\n",
       "      <td>Wadsworth</td>\n",
       "      <td>2018</td>\n",
       "      <td>43</td>\n",
       "      <td>88,177</td>\n",
       "      <td>4,043</td>\n",
       "    </tr>\n",
       "    <tr>\n",
       "      <th>4468832</th>\n",
       "      <td>3</td>\n",
       "      <td>W3969</td>\n",
       "      <td>Wadsworth</td>\n",
       "      <td>2018</td>\n",
       "      <td>44</td>\n",
       "      <td>92,995</td>\n",
       "      <td>2,804</td>\n",
       "    </tr>\n",
       "    <tr>\n",
       "      <th>4468833</th>\n",
       "      <td>3</td>\n",
       "      <td>W3969</td>\n",
       "      <td>Wadsworth</td>\n",
       "      <td>2018</td>\n",
       "      <td>45</td>\n",
       "      <td>99,613</td>\n",
       "      <td>2,601</td>\n",
       "    </tr>\n",
       "    <tr>\n",
       "      <th>4468834</th>\n",
       "      <td>3</td>\n",
       "      <td>W3969</td>\n",
       "      <td>Wadsworth</td>\n",
       "      <td>2018</td>\n",
       "      <td>46</td>\n",
       "      <td>100,753</td>\n",
       "      <td>4,795</td>\n",
       "    </tr>\n",
       "    <tr>\n",
       "      <th>4468835</th>\n",
       "      <td>3</td>\n",
       "      <td>W3969</td>\n",
       "      <td>Wadsworth</td>\n",
       "      <td>2018</td>\n",
       "      <td>47</td>\n",
       "      <td>94,016</td>\n",
       "      <td>7,031</td>\n",
       "    </tr>\n",
       "    <tr>\n",
       "      <th>4468836</th>\n",
       "      <td>3</td>\n",
       "      <td>W3969</td>\n",
       "      <td>Wadsworth</td>\n",
       "      <td>2018</td>\n",
       "      <td>48</td>\n",
       "      <td>93,663</td>\n",
       "      <td>3,679</td>\n",
       "    </tr>\n",
       "    <tr>\n",
       "      <th>4468837</th>\n",
       "      <td>3</td>\n",
       "      <td>W3969</td>\n",
       "      <td>Wadsworth</td>\n",
       "      <td>2018</td>\n",
       "      <td>49</td>\n",
       "      <td>97,093</td>\n",
       "      <td>6,871</td>\n",
       "    </tr>\n",
       "    <tr>\n",
       "      <th>4468838</th>\n",
       "      <td>3</td>\n",
       "      <td>W3969</td>\n",
       "      <td>Wadsworth</td>\n",
       "      <td>2018</td>\n",
       "      <td>50</td>\n",
       "      <td>81,209</td>\n",
       "      <td>3,207</td>\n",
       "    </tr>\n",
       "    <tr>\n",
       "      <th>4468839</th>\n",
       "      <td>3</td>\n",
       "      <td>W3969</td>\n",
       "      <td>Wadsworth</td>\n",
       "      <td>2018</td>\n",
       "      <td>51</td>\n",
       "      <td>92,636</td>\n",
       "      <td>3,696</td>\n",
       "    </tr>\n",
       "    <tr>\n",
       "      <th>4468840</th>\n",
       "      <td>3</td>\n",
       "      <td>W3969</td>\n",
       "      <td>Wadsworth</td>\n",
       "      <td>2018</td>\n",
       "      <td>52</td>\n",
       "      <td>72,083</td>\n",
       "      <td>4,032</td>\n",
       "    </tr>\n",
       "    <tr>\n",
       "      <th>4468841</th>\n",
       "      <td>3</td>\n",
       "      <td>W3969</td>\n",
       "      <td>Wadsworth</td>\n",
       "      <td>2018</td>\n",
       "      <td>53</td>\n",
       "      <td>22,586</td>\n",
       "      <td>749</td>\n",
       "    </tr>\n",
       "  </tbody>\n",
       "</table>\n",
       "<p>477 rows × 7 columns</p>\n",
       "</div>"
      ],
      "text/plain": [
       "         Sector__eSector Nodeb_eNodeb_Engineering_Num Unnamed:_2  \\\n",
       "1791041                1                        W3969  Wadsworth   \n",
       "1791042                1                        W3969  Wadsworth   \n",
       "1791043                1                        W3969  Wadsworth   \n",
       "1791044                1                        W3969  Wadsworth   \n",
       "1791045                1                        W3969  Wadsworth   \n",
       "1791046                1                        W3969  Wadsworth   \n",
       "1791047                1                        W3969  Wadsworth   \n",
       "1791048                1                        W3969  Wadsworth   \n",
       "1791049                1                        W3969  Wadsworth   \n",
       "1791050                1                        W3969  Wadsworth   \n",
       "1791051                1                        W3969  Wadsworth   \n",
       "1791052                1                        W3969  Wadsworth   \n",
       "1791053                1                        W3969  Wadsworth   \n",
       "1791054                1                        W3969  Wadsworth   \n",
       "1791055                1                        W3969  Wadsworth   \n",
       "1791056                1                        W3969  Wadsworth   \n",
       "1791057                1                        W3969  Wadsworth   \n",
       "1791058                1                        W3969  Wadsworth   \n",
       "1791059                1                        W3969  Wadsworth   \n",
       "1791060                1                        W3969  Wadsworth   \n",
       "1791061                1                        W3969  Wadsworth   \n",
       "1791062                1                        W3969  Wadsworth   \n",
       "1791063                1                        W3969  Wadsworth   \n",
       "1791064                1                        W3969  Wadsworth   \n",
       "1791065                1                        W3969  Wadsworth   \n",
       "1791066                1                        W3969  Wadsworth   \n",
       "1791067                1                        W3969  Wadsworth   \n",
       "1791068                1                        W3969  Wadsworth   \n",
       "1791069                1                        W3969  Wadsworth   \n",
       "1791070                1                        W3969  Wadsworth   \n",
       "...                  ...                          ...        ...   \n",
       "4468812                3                        W3969  Wadsworth   \n",
       "4468813                3                        W3969  Wadsworth   \n",
       "4468814                3                        W3969  Wadsworth   \n",
       "4468815                3                        W3969  Wadsworth   \n",
       "4468816                3                        W3969  Wadsworth   \n",
       "4468817                3                        W3969  Wadsworth   \n",
       "4468818                3                        W3969  Wadsworth   \n",
       "4468819                3                        W3969  Wadsworth   \n",
       "4468820                3                        W3969  Wadsworth   \n",
       "4468821                3                        W3969  Wadsworth   \n",
       "4468822                3                        W3969  Wadsworth   \n",
       "4468823                3                        W3969  Wadsworth   \n",
       "4468824                3                        W3969  Wadsworth   \n",
       "4468825                3                        W3969  Wadsworth   \n",
       "4468826                3                        W3969  Wadsworth   \n",
       "4468827                3                        W3969  Wadsworth   \n",
       "4468828                3                        W3969  Wadsworth   \n",
       "4468829                3                        W3969  Wadsworth   \n",
       "4468830                3                        W3969  Wadsworth   \n",
       "4468831                3                        W3969  Wadsworth   \n",
       "4468832                3                        W3969  Wadsworth   \n",
       "4468833                3                        W3969  Wadsworth   \n",
       "4468834                3                        W3969  Wadsworth   \n",
       "4468835                3                        W3969  Wadsworth   \n",
       "4468836                3                        W3969  Wadsworth   \n",
       "4468837                3                        W3969  Wadsworth   \n",
       "4468838                3                        W3969  Wadsworth   \n",
       "4468839                3                        W3969  Wadsworth   \n",
       "4468840                3                        W3969  Wadsworth   \n",
       "4468841                3                        W3969  Wadsworth   \n",
       "\n",
       "         Year_Calendar  Week_Calendar National_PDCP_VOL_TOT_MB HSPA_TOT_MB  \n",
       "1791041           2016              1                        0       8,154  \n",
       "1791042           2016              2                        0      53,147  \n",
       "1791043           2016              3                        0      62,314  \n",
       "1791044           2016              4                        0      59,403  \n",
       "1791045           2016              5                        0      75,371  \n",
       "1791046           2016              6                        0      68,504  \n",
       "1791047           2016              7                        0      63,960  \n",
       "1791048           2016              8                        0      43,263  \n",
       "1791049           2016              9                        0      54,291  \n",
       "1791050           2016             10                        0      54,005  \n",
       "1791051           2016             11                        0      51,256  \n",
       "1791052           2016             12                        0      40,077  \n",
       "1791053           2016             13                        0      41,304  \n",
       "1791054           2016             14                        0      53,938  \n",
       "1791055           2016             15                        0      57,421  \n",
       "1791056           2016             16                        0      48,729  \n",
       "1791057           2016             17                        0      51,503  \n",
       "1791058           2016             18                        0      50,593  \n",
       "1791059           2016             19                        0      59,330  \n",
       "1791060           2016             20                        0      63,002  \n",
       "1791061           2016             21                        0      52,285  \n",
       "1791062           2016             22                        0      52,200  \n",
       "1791063           2016             23                        0      69,663  \n",
       "1791064           2016             24                        0      62,431  \n",
       "1791065           2016             25                        0      54,568  \n",
       "1791066           2016             26                        0      60,171  \n",
       "1791067           2016             27                        0      80,966  \n",
       "1791068           2016             28                        0     103,729  \n",
       "1791069           2016             29                        0      87,029  \n",
       "1791070           2016             30                        0      80,267  \n",
       "...                ...            ...                      ...         ...  \n",
       "4468812           2018             24                   95,921       4,965  \n",
       "4468813           2018             25                   93,187       5,181  \n",
       "4468814           2018             26                   91,196       4,723  \n",
       "4468815           2018             27                   98,938       4,883  \n",
       "4468816           2018             28                  121,014       5,407  \n",
       "4468817           2018             29                  144,244       6,479  \n",
       "4468818           2018             30                  112,416       4,716  \n",
       "4468819           2018             31                   92,496       5,535  \n",
       "4468820           2018             32                   81,280       5,700  \n",
       "4468821           2018             33                   87,929       5,512  \n",
       "4468822           2018             34                   96,177       5,620  \n",
       "4468823           2018             35                   95,949       5,270  \n",
       "4468824           2018             36                   86,557       4,448  \n",
       "4468825           2018             37                   75,599       6,252  \n",
       "4468826           2018             38                   76,589       5,004  \n",
       "4468827           2018             39                   81,011       4,542  \n",
       "4468828           2018             40                   91,357       4,040  \n",
       "4468829           2018             41                   91,338       4,723  \n",
       "4468830           2018             42                   87,464       3,188  \n",
       "4468831           2018             43                   88,177       4,043  \n",
       "4468832           2018             44                   92,995       2,804  \n",
       "4468833           2018             45                   99,613       2,601  \n",
       "4468834           2018             46                  100,753       4,795  \n",
       "4468835           2018             47                   94,016       7,031  \n",
       "4468836           2018             48                   93,663       3,679  \n",
       "4468837           2018             49                   97,093       6,871  \n",
       "4468838           2018             50                   81,209       3,207  \n",
       "4468839           2018             51                   92,636       3,696  \n",
       "4468840           2018             52                   72,083       4,032  \n",
       "4468841           2018             53                   22,586         749  \n",
       "\n",
       "[477 rows x 7 columns]"
      ]
     },
     "execution_count": 9,
     "metadata": {},
     "output_type": "execute_result"
    }
   ],
   "source": [
    "df[df['Nodeb_eNodeb_Engineering_Num'] == 'W3969']"
   ]
  },
  {
   "cell_type": "code",
   "execution_count": 10,
   "metadata": {},
   "outputs": [],
   "source": [
    "df2 = df[df['Nodeb_eNodeb_Engineering_Num'] == 'W3969']"
   ]
  },
  {
   "cell_type": "code",
   "execution_count": 11,
   "metadata": {},
   "outputs": [
    {
     "data": {
      "text/html": [
       "<div>\n",
       "<style scoped>\n",
       "    .dataframe tbody tr th:only-of-type {\n",
       "        vertical-align: middle;\n",
       "    }\n",
       "\n",
       "    .dataframe tbody tr th {\n",
       "        vertical-align: top;\n",
       "    }\n",
       "\n",
       "    .dataframe thead th {\n",
       "        text-align: right;\n",
       "    }\n",
       "</style>\n",
       "<table border=\"1\" class=\"dataframe\">\n",
       "  <thead>\n",
       "    <tr style=\"text-align: right;\">\n",
       "      <th></th>\n",
       "      <th>Sector__eSector</th>\n",
       "      <th>Nodeb_eNodeb_Engineering_Num</th>\n",
       "      <th>Unnamed:_2</th>\n",
       "      <th>Year_Calendar</th>\n",
       "      <th>Week_Calendar</th>\n",
       "      <th>National_PDCP_VOL_TOT_MB</th>\n",
       "      <th>HSPA_TOT_MB</th>\n",
       "    </tr>\n",
       "  </thead>\n",
       "  <tbody>\n",
       "    <tr>\n",
       "      <th>1791041</th>\n",
       "      <td>1</td>\n",
       "      <td>W3969</td>\n",
       "      <td>Wadsworth</td>\n",
       "      <td>2016</td>\n",
       "      <td>1</td>\n",
       "      <td>0</td>\n",
       "      <td>8,154</td>\n",
       "    </tr>\n",
       "    <tr>\n",
       "      <th>1791042</th>\n",
       "      <td>1</td>\n",
       "      <td>W3969</td>\n",
       "      <td>Wadsworth</td>\n",
       "      <td>2016</td>\n",
       "      <td>2</td>\n",
       "      <td>0</td>\n",
       "      <td>53,147</td>\n",
       "    </tr>\n",
       "    <tr>\n",
       "      <th>1791043</th>\n",
       "      <td>1</td>\n",
       "      <td>W3969</td>\n",
       "      <td>Wadsworth</td>\n",
       "      <td>2016</td>\n",
       "      <td>3</td>\n",
       "      <td>0</td>\n",
       "      <td>62,314</td>\n",
       "    </tr>\n",
       "    <tr>\n",
       "      <th>1791044</th>\n",
       "      <td>1</td>\n",
       "      <td>W3969</td>\n",
       "      <td>Wadsworth</td>\n",
       "      <td>2016</td>\n",
       "      <td>4</td>\n",
       "      <td>0</td>\n",
       "      <td>59,403</td>\n",
       "    </tr>\n",
       "    <tr>\n",
       "      <th>1791045</th>\n",
       "      <td>1</td>\n",
       "      <td>W3969</td>\n",
       "      <td>Wadsworth</td>\n",
       "      <td>2016</td>\n",
       "      <td>5</td>\n",
       "      <td>0</td>\n",
       "      <td>75,371</td>\n",
       "    </tr>\n",
       "  </tbody>\n",
       "</table>\n",
       "</div>"
      ],
      "text/plain": [
       "         Sector__eSector Nodeb_eNodeb_Engineering_Num Unnamed:_2  \\\n",
       "1791041                1                        W3969  Wadsworth   \n",
       "1791042                1                        W3969  Wadsworth   \n",
       "1791043                1                        W3969  Wadsworth   \n",
       "1791044                1                        W3969  Wadsworth   \n",
       "1791045                1                        W3969  Wadsworth   \n",
       "\n",
       "         Year_Calendar  Week_Calendar National_PDCP_VOL_TOT_MB HSPA_TOT_MB  \n",
       "1791041           2016              1                        0       8,154  \n",
       "1791042           2016              2                        0      53,147  \n",
       "1791043           2016              3                        0      62,314  \n",
       "1791044           2016              4                        0      59,403  \n",
       "1791045           2016              5                        0      75,371  "
      ]
     },
     "execution_count": 11,
     "metadata": {},
     "output_type": "execute_result"
    }
   ],
   "source": [
    "df2.head()"
   ]
  },
  {
   "cell_type": "code",
   "execution_count": 12,
   "metadata": {},
   "outputs": [
    {
     "data": {
      "text/plain": [
       "(477, 7)"
      ]
     },
     "execution_count": 12,
     "metadata": {},
     "output_type": "execute_result"
    }
   ],
   "source": [
    "df2.shape"
   ]
  },
  {
   "cell_type": "code",
   "execution_count": null,
   "metadata": {},
   "outputs": [],
   "source": []
  },
  {
   "cell_type": "code",
   "execution_count": 13,
   "metadata": {},
   "outputs": [],
   "source": [
    "df2['Year_Calendar']=df2['Year_Calendar'].map(str)\n",
    "df2['Week_Calendar']=df2['Week_Calendar'].map(str)"
   ]
  },
  {
   "cell_type": "code",
   "execution_count": 14,
   "metadata": {},
   "outputs": [],
   "source": [
    "df2['period'] = df2[['Year_Calendar' , 'Week_Calendar']].apply(lambda x: '-'.join(x), axis=1)"
   ]
  },
  {
   "cell_type": "code",
   "execution_count": 15,
   "metadata": {},
   "outputs": [
    {
     "data": {
      "text/plain": [
       "1791041     2016-1\n",
       "1791042     2016-2\n",
       "1791043     2016-3\n",
       "1791044     2016-4\n",
       "1791045     2016-5\n",
       "1791046     2016-6\n",
       "1791047     2016-7\n",
       "1791048     2016-8\n",
       "1791049     2016-9\n",
       "1791050    2016-10\n",
       "1791051    2016-11\n",
       "1791052    2016-12\n",
       "1791053    2016-13\n",
       "1791054    2016-14\n",
       "1791055    2016-15\n",
       "1791056    2016-16\n",
       "1791057    2016-17\n",
       "1791058    2016-18\n",
       "1791059    2016-19\n",
       "1791060    2016-20\n",
       "1791061    2016-21\n",
       "1791062    2016-22\n",
       "1791063    2016-23\n",
       "1791064    2016-24\n",
       "1791065    2016-25\n",
       "1791066    2016-26\n",
       "1791067    2016-27\n",
       "1791068    2016-28\n",
       "1791069    2016-29\n",
       "1791070    2016-30\n",
       "            ...   \n",
       "4468812    2018-24\n",
       "4468813    2018-25\n",
       "4468814    2018-26\n",
       "4468815    2018-27\n",
       "4468816    2018-28\n",
       "4468817    2018-29\n",
       "4468818    2018-30\n",
       "4468819    2018-31\n",
       "4468820    2018-32\n",
       "4468821    2018-33\n",
       "4468822    2018-34\n",
       "4468823    2018-35\n",
       "4468824    2018-36\n",
       "4468825    2018-37\n",
       "4468826    2018-38\n",
       "4468827    2018-39\n",
       "4468828    2018-40\n",
       "4468829    2018-41\n",
       "4468830    2018-42\n",
       "4468831    2018-43\n",
       "4468832    2018-44\n",
       "4468833    2018-45\n",
       "4468834    2018-46\n",
       "4468835    2018-47\n",
       "4468836    2018-48\n",
       "4468837    2018-49\n",
       "4468838    2018-50\n",
       "4468839    2018-51\n",
       "4468840    2018-52\n",
       "4468841    2018-53\n",
       "Name: period, Length: 477, dtype: object"
      ]
     },
     "execution_count": 15,
     "metadata": {},
     "output_type": "execute_result"
    }
   ],
   "source": [
    "df2['period']"
   ]
  },
  {
   "cell_type": "code",
   "execution_count": 16,
   "metadata": {},
   "outputs": [],
   "source": [
    "#The -1 and -%w pattern tells the parser to pick the Monday in that week\n",
    "df2['date'] = df2['period'].apply(lambda x: datetime.datetime.strptime(x + '-1', \"%Y-%W-%w\"))"
   ]
  },
  {
   "cell_type": "code",
   "execution_count": 17,
   "metadata": {},
   "outputs": [
    {
     "data": {
      "text/plain": [
       "1791041   2016-01-04\n",
       "1791042   2016-01-11\n",
       "1791043   2016-01-18\n",
       "1791044   2016-01-25\n",
       "1791045   2016-02-01\n",
       "1791046   2016-02-08\n",
       "1791047   2016-02-15\n",
       "1791048   2016-02-22\n",
       "1791049   2016-02-29\n",
       "1791050   2016-03-07\n",
       "1791051   2016-03-14\n",
       "1791052   2016-03-21\n",
       "1791053   2016-03-28\n",
       "1791054   2016-04-04\n",
       "1791055   2016-04-11\n",
       "1791056   2016-04-18\n",
       "1791057   2016-04-25\n",
       "1791058   2016-05-02\n",
       "1791059   2016-05-09\n",
       "1791060   2016-05-16\n",
       "1791061   2016-05-23\n",
       "1791062   2016-05-30\n",
       "1791063   2016-06-06\n",
       "1791064   2016-06-13\n",
       "1791065   2016-06-20\n",
       "1791066   2016-06-27\n",
       "1791067   2016-07-04\n",
       "1791068   2016-07-11\n",
       "1791069   2016-07-18\n",
       "1791070   2016-07-25\n",
       "             ...    \n",
       "4468812   2018-06-11\n",
       "4468813   2018-06-18\n",
       "4468814   2018-06-25\n",
       "4468815   2018-07-02\n",
       "4468816   2018-07-09\n",
       "4468817   2018-07-16\n",
       "4468818   2018-07-23\n",
       "4468819   2018-07-30\n",
       "4468820   2018-08-06\n",
       "4468821   2018-08-13\n",
       "4468822   2018-08-20\n",
       "4468823   2018-08-27\n",
       "4468824   2018-09-03\n",
       "4468825   2018-09-10\n",
       "4468826   2018-09-17\n",
       "4468827   2018-09-24\n",
       "4468828   2018-10-01\n",
       "4468829   2018-10-08\n",
       "4468830   2018-10-15\n",
       "4468831   2018-10-22\n",
       "4468832   2018-10-29\n",
       "4468833   2018-11-05\n",
       "4468834   2018-11-12\n",
       "4468835   2018-11-19\n",
       "4468836   2018-11-26\n",
       "4468837   2018-12-03\n",
       "4468838   2018-12-10\n",
       "4468839   2018-12-17\n",
       "4468840   2018-12-24\n",
       "4468841   2018-12-31\n",
       "Name: date, Length: 477, dtype: datetime64[ns]"
      ]
     },
     "execution_count": 17,
     "metadata": {},
     "output_type": "execute_result"
    }
   ],
   "source": [
    "df2['date']"
   ]
  },
  {
   "cell_type": "code",
   "execution_count": 18,
   "metadata": {},
   "outputs": [
    {
     "data": {
      "text/plain": [
       "Sector__eSector                          int64\n",
       "Nodeb_eNodeb_Engineering_Num            object\n",
       "Unnamed:_2                              object\n",
       "Year_Calendar                           object\n",
       "Week_Calendar                           object\n",
       "National_PDCP_VOL_TOT_MB                object\n",
       "HSPA_TOT_MB                             object\n",
       "period                                  object\n",
       "date                            datetime64[ns]\n",
       "dtype: object"
      ]
     },
     "execution_count": 18,
     "metadata": {},
     "output_type": "execute_result"
    }
   ],
   "source": [
    "df2.dtypes"
   ]
  },
  {
   "cell_type": "code",
   "execution_count": 19,
   "metadata": {},
   "outputs": [
    {
     "data": {
      "text/plain": [
       "1791041      8,154\n",
       "1791042     53,147\n",
       "1791043     62,314\n",
       "1791044     59,403\n",
       "1791045     75,371\n",
       "1791046     68,504\n",
       "1791047     63,960\n",
       "1791048     43,263\n",
       "1791049     54,291\n",
       "1791050     54,005\n",
       "1791051     51,256\n",
       "1791052     40,077\n",
       "1791053     41,304\n",
       "1791054     53,938\n",
       "1791055     57,421\n",
       "1791056     48,729\n",
       "1791057     51,503\n",
       "1791058     50,593\n",
       "1791059     59,330\n",
       "1791060     63,002\n",
       "1791061     52,285\n",
       "1791062     52,200\n",
       "1791063     69,663\n",
       "1791064     62,431\n",
       "1791065     54,568\n",
       "1791066     60,171\n",
       "1791067     80,966\n",
       "1791068    103,729\n",
       "1791069     87,029\n",
       "1791070     80,267\n",
       "            ...   \n",
       "4468812      4,965\n",
       "4468813      5,181\n",
       "4468814      4,723\n",
       "4468815      4,883\n",
       "4468816      5,407\n",
       "4468817      6,479\n",
       "4468818      4,716\n",
       "4468819      5,535\n",
       "4468820      5,700\n",
       "4468821      5,512\n",
       "4468822      5,620\n",
       "4468823      5,270\n",
       "4468824      4,448\n",
       "4468825      6,252\n",
       "4468826      5,004\n",
       "4468827      4,542\n",
       "4468828      4,040\n",
       "4468829      4,723\n",
       "4468830      3,188\n",
       "4468831      4,043\n",
       "4468832      2,804\n",
       "4468833      2,601\n",
       "4468834      4,795\n",
       "4468835      7,031\n",
       "4468836      3,679\n",
       "4468837      6,871\n",
       "4468838      3,207\n",
       "4468839      3,696\n",
       "4468840      4,032\n",
       "4468841        749\n",
       "Name: HSPA_TOT_MB, Length: 477, dtype: object"
      ]
     },
     "execution_count": 19,
     "metadata": {},
     "output_type": "execute_result"
    }
   ],
   "source": [
    "df2['HSPA_TOT_MB']"
   ]
  },
  {
   "cell_type": "code",
   "execution_count": 20,
   "metadata": {},
   "outputs": [],
   "source": [
    "df2['HSPA_TOT_MB'] = df2['HSPA_TOT_MB'].str.replace(',','')\n",
    "df2['HSPA_TOT_MB'] = df2.HSPA_TOT_MB.astype(float).fillna(0.0)\n",
    "\n",
    "df2['National_PDCP_VOL_TOT_MB'] = df2['National_PDCP_VOL_TOT_MB'].str.replace(',','')\n",
    "df2['National_PDCP_VOL_TOT_MB'] = df2.National_PDCP_VOL_TOT_MB.astype(float).fillna(0.0)"
   ]
  },
  {
   "cell_type": "code",
   "execution_count": 21,
   "metadata": {},
   "outputs": [
    {
     "data": {
      "text/plain": [
       "1791041      8154.0\n",
       "1791042     53147.0\n",
       "1791043     62314.0\n",
       "1791044     59403.0\n",
       "1791045     75371.0\n",
       "1791046     68504.0\n",
       "1791047     63960.0\n",
       "1791048     43263.0\n",
       "1791049     54291.0\n",
       "1791050     54005.0\n",
       "1791051     51256.0\n",
       "1791052     40077.0\n",
       "1791053     41304.0\n",
       "1791054     53938.0\n",
       "1791055     57421.0\n",
       "1791056     48729.0\n",
       "1791057     51503.0\n",
       "1791058     50593.0\n",
       "1791059     59330.0\n",
       "1791060     63002.0\n",
       "1791061     52285.0\n",
       "1791062     52200.0\n",
       "1791063     69663.0\n",
       "1791064     62431.0\n",
       "1791065     54568.0\n",
       "1791066     60171.0\n",
       "1791067     80966.0\n",
       "1791068    103729.0\n",
       "1791069     87029.0\n",
       "1791070     80267.0\n",
       "             ...   \n",
       "4468812      4965.0\n",
       "4468813      5181.0\n",
       "4468814      4723.0\n",
       "4468815      4883.0\n",
       "4468816      5407.0\n",
       "4468817      6479.0\n",
       "4468818      4716.0\n",
       "4468819      5535.0\n",
       "4468820      5700.0\n",
       "4468821      5512.0\n",
       "4468822      5620.0\n",
       "4468823      5270.0\n",
       "4468824      4448.0\n",
       "4468825      6252.0\n",
       "4468826      5004.0\n",
       "4468827      4542.0\n",
       "4468828      4040.0\n",
       "4468829      4723.0\n",
       "4468830      3188.0\n",
       "4468831      4043.0\n",
       "4468832      2804.0\n",
       "4468833      2601.0\n",
       "4468834      4795.0\n",
       "4468835      7031.0\n",
       "4468836      3679.0\n",
       "4468837      6871.0\n",
       "4468838      3207.0\n",
       "4468839      3696.0\n",
       "4468840      4032.0\n",
       "4468841       749.0\n",
       "Name: HSPA_TOT_MB, Length: 477, dtype: float64"
      ]
     },
     "execution_count": 21,
     "metadata": {},
     "output_type": "execute_result"
    }
   ],
   "source": [
    "df2['HSPA_TOT_MB']"
   ]
  },
  {
   "cell_type": "code",
   "execution_count": 22,
   "metadata": {},
   "outputs": [
    {
     "data": {
      "text/plain": [
       "1791041         0.0\n",
       "1791042         0.0\n",
       "1791043         0.0\n",
       "1791044         0.0\n",
       "1791045         0.0\n",
       "1791046         0.0\n",
       "1791047         0.0\n",
       "1791048         0.0\n",
       "1791049         0.0\n",
       "1791050         0.0\n",
       "1791051         0.0\n",
       "1791052         0.0\n",
       "1791053         0.0\n",
       "1791054         0.0\n",
       "1791055         0.0\n",
       "1791056         0.0\n",
       "1791057         0.0\n",
       "1791058         0.0\n",
       "1791059         0.0\n",
       "1791060         0.0\n",
       "1791061         0.0\n",
       "1791062         0.0\n",
       "1791063         0.0\n",
       "1791064         0.0\n",
       "1791065         0.0\n",
       "1791066         0.0\n",
       "1791067         0.0\n",
       "1791068         0.0\n",
       "1791069         0.0\n",
       "1791070         0.0\n",
       "             ...   \n",
       "4468812     95921.0\n",
       "4468813     93187.0\n",
       "4468814     91196.0\n",
       "4468815     98938.0\n",
       "4468816    121014.0\n",
       "4468817    144244.0\n",
       "4468818    112416.0\n",
       "4468819     92496.0\n",
       "4468820     81280.0\n",
       "4468821     87929.0\n",
       "4468822     96177.0\n",
       "4468823     95949.0\n",
       "4468824     86557.0\n",
       "4468825     75599.0\n",
       "4468826     76589.0\n",
       "4468827     81011.0\n",
       "4468828     91357.0\n",
       "4468829     91338.0\n",
       "4468830     87464.0\n",
       "4468831     88177.0\n",
       "4468832     92995.0\n",
       "4468833     99613.0\n",
       "4468834    100753.0\n",
       "4468835     94016.0\n",
       "4468836     93663.0\n",
       "4468837     97093.0\n",
       "4468838     81209.0\n",
       "4468839     92636.0\n",
       "4468840     72083.0\n",
       "4468841     22586.0\n",
       "Name: National_PDCP_VOL_TOT_MB, Length: 477, dtype: float64"
      ]
     },
     "execution_count": 22,
     "metadata": {},
     "output_type": "execute_result"
    }
   ],
   "source": [
    "df2['National_PDCP_VOL_TOT_MB']"
   ]
  },
  {
   "cell_type": "code",
   "execution_count": 23,
   "metadata": {},
   "outputs": [
    {
     "data": {
      "text/plain": [
       "Sector__eSector                          int64\n",
       "Nodeb_eNodeb_Engineering_Num            object\n",
       "Unnamed:_2                              object\n",
       "Year_Calendar                           object\n",
       "Week_Calendar                           object\n",
       "National_PDCP_VOL_TOT_MB               float64\n",
       "HSPA_TOT_MB                            float64\n",
       "period                                  object\n",
       "date                            datetime64[ns]\n",
       "dtype: object"
      ]
     },
     "execution_count": 23,
     "metadata": {},
     "output_type": "execute_result"
    }
   ],
   "source": [
    "df2.dtypes"
   ]
  },
  {
   "cell_type": "code",
   "execution_count": 24,
   "metadata": {},
   "outputs": [],
   "source": [
    "df2['data_all'] = df2[['National_PDCP_VOL_TOT_MB' , 'HSPA_TOT_MB']].apply(lambda x: sum(x), axis=1)"
   ]
  },
  {
   "cell_type": "code",
   "execution_count": 25,
   "metadata": {},
   "outputs": [
    {
     "data": {
      "text/plain": [
       "1791041      8154.0\n",
       "1791042     53147.0\n",
       "1791043     62314.0\n",
       "1791044     59403.0\n",
       "1791045     75371.0\n",
       "1791046     68504.0\n",
       "1791047     63960.0\n",
       "1791048     43263.0\n",
       "1791049     54291.0\n",
       "1791050     54005.0\n",
       "1791051     51256.0\n",
       "1791052     40077.0\n",
       "1791053     41304.0\n",
       "1791054     53938.0\n",
       "1791055     57421.0\n",
       "1791056     48729.0\n",
       "1791057     51503.0\n",
       "1791058     50593.0\n",
       "1791059     59330.0\n",
       "1791060     63002.0\n",
       "1791061     52285.0\n",
       "1791062     52200.0\n",
       "1791063     69663.0\n",
       "1791064     62431.0\n",
       "1791065     54568.0\n",
       "1791066     60171.0\n",
       "1791067     80966.0\n",
       "1791068    103729.0\n",
       "1791069     87029.0\n",
       "1791070     80267.0\n",
       "             ...   \n",
       "4468812    100886.0\n",
       "4468813     98368.0\n",
       "4468814     95919.0\n",
       "4468815    103821.0\n",
       "4468816    126421.0\n",
       "4468817    150723.0\n",
       "4468818    117132.0\n",
       "4468819     98031.0\n",
       "4468820     86980.0\n",
       "4468821     93441.0\n",
       "4468822    101797.0\n",
       "4468823    101219.0\n",
       "4468824     91005.0\n",
       "4468825     81851.0\n",
       "4468826     81593.0\n",
       "4468827     85553.0\n",
       "4468828     95397.0\n",
       "4468829     96061.0\n",
       "4468830     90652.0\n",
       "4468831     92220.0\n",
       "4468832     95799.0\n",
       "4468833    102214.0\n",
       "4468834    105548.0\n",
       "4468835    101047.0\n",
       "4468836     97342.0\n",
       "4468837    103964.0\n",
       "4468838     84416.0\n",
       "4468839     96332.0\n",
       "4468840     76115.0\n",
       "4468841     23335.0\n",
       "Name: data_all, Length: 477, dtype: float64"
      ]
     },
     "execution_count": 25,
     "metadata": {},
     "output_type": "execute_result"
    }
   ],
   "source": [
    "df2['data_all']"
   ]
  },
  {
   "cell_type": "code",
   "execution_count": 26,
   "metadata": {},
   "outputs": [
    {
     "data": {
      "text/plain": [
       "Index(['Sector__eSector', 'Nodeb_eNodeb_Engineering_Num', 'Unnamed:_2',\n",
       "       'Year_Calendar', 'Week_Calendar', 'National_PDCP_VOL_TOT_MB',\n",
       "       'HSPA_TOT_MB', 'period', 'date', 'data_all'],\n",
       "      dtype='object')"
      ]
     },
     "execution_count": 26,
     "metadata": {},
     "output_type": "execute_result"
    }
   ],
   "source": [
    "df2.columns"
   ]
  },
  {
   "cell_type": "code",
   "execution_count": 27,
   "metadata": {},
   "outputs": [],
   "source": [
    "cols = ['Sector__eSector', 'Nodeb_eNodeb_Engineering_Num', 'Unnamed:_2',\n",
    "       'Year_Calendar', 'Week_Calendar', 'National_PDCP_VOL_TOT_MB',\n",
    "       'HSPA_TOT_MB', 'period']"
   ]
  },
  {
   "cell_type": "code",
   "execution_count": 28,
   "metadata": {},
   "outputs": [],
   "source": [
    "df2.drop(cols, axis=1, inplace=True)"
   ]
  },
  {
   "cell_type": "code",
   "execution_count": 29,
   "metadata": {},
   "outputs": [
    {
     "data": {
      "text/plain": [
       "Index(['date', 'data_all'], dtype='object')"
      ]
     },
     "execution_count": 29,
     "metadata": {},
     "output_type": "execute_result"
    }
   ],
   "source": [
    "df2.columns"
   ]
  },
  {
   "cell_type": "code",
   "execution_count": 30,
   "metadata": {},
   "outputs": [],
   "source": [
    "df2 = df2.sort_values('date')"
   ]
  },
  {
   "cell_type": "code",
   "execution_count": 31,
   "metadata": {},
   "outputs": [
    {
     "data": {
      "text/plain": [
       "date        0\n",
       "data_all    0\n",
       "dtype: int64"
      ]
     },
     "execution_count": 31,
     "metadata": {},
     "output_type": "execute_result"
    }
   ],
   "source": [
    "df2.isnull().sum()"
   ]
  },
  {
   "cell_type": "code",
   "execution_count": 32,
   "metadata": {},
   "outputs": [
    {
     "data": {
      "text/plain": [
       "date        datetime64[ns]\n",
       "data_all           float64\n",
       "dtype: object"
      ]
     },
     "execution_count": 32,
     "metadata": {},
     "output_type": "execute_result"
    }
   ],
   "source": [
    "df2.dtypes"
   ]
  },
  {
   "cell_type": "code",
   "execution_count": 33,
   "metadata": {},
   "outputs": [
    {
     "data": {
      "text/html": [
       "<div>\n",
       "<style scoped>\n",
       "    .dataframe tbody tr th:only-of-type {\n",
       "        vertical-align: middle;\n",
       "    }\n",
       "\n",
       "    .dataframe tbody tr th {\n",
       "        vertical-align: top;\n",
       "    }\n",
       "\n",
       "    .dataframe thead th {\n",
       "        text-align: right;\n",
       "    }\n",
       "</style>\n",
       "<table border=\"1\" class=\"dataframe\">\n",
       "  <thead>\n",
       "    <tr style=\"text-align: right;\">\n",
       "      <th></th>\n",
       "      <th>date</th>\n",
       "      <th>data_all</th>\n",
       "    </tr>\n",
       "  </thead>\n",
       "  <tbody>\n",
       "    <tr>\n",
       "      <th>1791041</th>\n",
       "      <td>2016-01-04</td>\n",
       "      <td>8154.0</td>\n",
       "    </tr>\n",
       "    <tr>\n",
       "      <th>4468683</th>\n",
       "      <td>2016-01-04</td>\n",
       "      <td>6570.0</td>\n",
       "    </tr>\n",
       "    <tr>\n",
       "      <th>3197195</th>\n",
       "      <td>2016-01-04</td>\n",
       "      <td>1492.0</td>\n",
       "    </tr>\n",
       "    <tr>\n",
       "      <th>1791042</th>\n",
       "      <td>2016-01-11</td>\n",
       "      <td>53147.0</td>\n",
       "    </tr>\n",
       "    <tr>\n",
       "      <th>4468684</th>\n",
       "      <td>2016-01-11</td>\n",
       "      <td>34839.0</td>\n",
       "    </tr>\n",
       "  </tbody>\n",
       "</table>\n",
       "</div>"
      ],
      "text/plain": [
       "              date  data_all\n",
       "1791041 2016-01-04    8154.0\n",
       "4468683 2016-01-04    6570.0\n",
       "3197195 2016-01-04    1492.0\n",
       "1791042 2016-01-11   53147.0\n",
       "4468684 2016-01-11   34839.0"
      ]
     },
     "execution_count": 33,
     "metadata": {},
     "output_type": "execute_result"
    }
   ],
   "source": [
    "df2.head()"
   ]
  },
  {
   "cell_type": "code",
   "execution_count": 34,
   "metadata": {},
   "outputs": [],
   "source": [
    "df3 = df2.groupby('date')['data_all'].sum().reset_index()"
   ]
  },
  {
   "cell_type": "code",
   "execution_count": 35,
   "metadata": {},
   "outputs": [
    {
     "data": {
      "text/html": [
       "<div>\n",
       "<style scoped>\n",
       "    .dataframe tbody tr th:only-of-type {\n",
       "        vertical-align: middle;\n",
       "    }\n",
       "\n",
       "    .dataframe tbody tr th {\n",
       "        vertical-align: top;\n",
       "    }\n",
       "\n",
       "    .dataframe thead th {\n",
       "        text-align: right;\n",
       "    }\n",
       "</style>\n",
       "<table border=\"1\" class=\"dataframe\">\n",
       "  <thead>\n",
       "    <tr style=\"text-align: right;\">\n",
       "      <th></th>\n",
       "      <th>date</th>\n",
       "      <th>data_all</th>\n",
       "    </tr>\n",
       "  </thead>\n",
       "  <tbody>\n",
       "    <tr>\n",
       "      <th>0</th>\n",
       "      <td>2016-01-04</td>\n",
       "      <td>16216.0</td>\n",
       "    </tr>\n",
       "    <tr>\n",
       "      <th>1</th>\n",
       "      <td>2016-01-11</td>\n",
       "      <td>92630.0</td>\n",
       "    </tr>\n",
       "    <tr>\n",
       "      <th>2</th>\n",
       "      <td>2016-01-18</td>\n",
       "      <td>97340.0</td>\n",
       "    </tr>\n",
       "    <tr>\n",
       "      <th>3</th>\n",
       "      <td>2016-01-25</td>\n",
       "      <td>85552.0</td>\n",
       "    </tr>\n",
       "    <tr>\n",
       "      <th>4</th>\n",
       "      <td>2016-02-01</td>\n",
       "      <td>106595.0</td>\n",
       "    </tr>\n",
       "  </tbody>\n",
       "</table>\n",
       "</div>"
      ],
      "text/plain": [
       "        date  data_all\n",
       "0 2016-01-04   16216.0\n",
       "1 2016-01-11   92630.0\n",
       "2 2016-01-18   97340.0\n",
       "3 2016-01-25   85552.0\n",
       "4 2016-02-01  106595.0"
      ]
     },
     "execution_count": 35,
     "metadata": {},
     "output_type": "execute_result"
    }
   ],
   "source": [
    "df3.head()"
   ]
  },
  {
   "cell_type": "code",
   "execution_count": 36,
   "metadata": {},
   "outputs": [
    {
     "data": {
      "text/plain": [
       "DatetimeIndex(['2016-01-04', '2016-01-11', '2016-01-18', '2016-01-25',\n",
       "               '2016-02-01', '2016-02-08', '2016-02-15', '2016-02-22',\n",
       "               '2016-02-29', '2016-03-07',\n",
       "               ...\n",
       "               '2018-10-29', '2018-11-05', '2018-11-12', '2018-11-19',\n",
       "               '2018-11-26', '2018-12-03', '2018-12-10', '2018-12-17',\n",
       "               '2018-12-24', '2018-12-31'],\n",
       "              dtype='datetime64[ns]', name='date', length=157, freq=None)"
      ]
     },
     "execution_count": 36,
     "metadata": {},
     "output_type": "execute_result"
    }
   ],
   "source": [
    "df4 = df3.set_index('date')\n",
    "df4.index"
   ]
  },
  {
   "cell_type": "code",
   "execution_count": 37,
   "metadata": {},
   "outputs": [
    {
     "data": {
      "text/html": [
       "<div>\n",
       "<style scoped>\n",
       "    .dataframe tbody tr th:only-of-type {\n",
       "        vertical-align: middle;\n",
       "    }\n",
       "\n",
       "    .dataframe tbody tr th {\n",
       "        vertical-align: top;\n",
       "    }\n",
       "\n",
       "    .dataframe thead th {\n",
       "        text-align: right;\n",
       "    }\n",
       "</style>\n",
       "<table border=\"1\" class=\"dataframe\">\n",
       "  <thead>\n",
       "    <tr style=\"text-align: right;\">\n",
       "      <th></th>\n",
       "      <th>data_all</th>\n",
       "    </tr>\n",
       "    <tr>\n",
       "      <th>date</th>\n",
       "      <th></th>\n",
       "    </tr>\n",
       "  </thead>\n",
       "  <tbody>\n",
       "    <tr>\n",
       "      <th>2016-01-04</th>\n",
       "      <td>16216.0</td>\n",
       "    </tr>\n",
       "    <tr>\n",
       "      <th>2016-01-11</th>\n",
       "      <td>92630.0</td>\n",
       "    </tr>\n",
       "    <tr>\n",
       "      <th>2016-01-18</th>\n",
       "      <td>97340.0</td>\n",
       "    </tr>\n",
       "    <tr>\n",
       "      <th>2016-01-25</th>\n",
       "      <td>85552.0</td>\n",
       "    </tr>\n",
       "    <tr>\n",
       "      <th>2016-02-01</th>\n",
       "      <td>106595.0</td>\n",
       "    </tr>\n",
       "  </tbody>\n",
       "</table>\n",
       "</div>"
      ],
      "text/plain": [
       "            data_all\n",
       "date                \n",
       "2016-01-04   16216.0\n",
       "2016-01-11   92630.0\n",
       "2016-01-18   97340.0\n",
       "2016-01-25   85552.0\n",
       "2016-02-01  106595.0"
      ]
     },
     "execution_count": 37,
     "metadata": {},
     "output_type": "execute_result"
    }
   ],
   "source": [
    "df4.head()"
   ]
  },
  {
   "cell_type": "code",
   "execution_count": 38,
   "metadata": {},
   "outputs": [
    {
     "data": {
      "text/html": [
       "<div>\n",
       "<style scoped>\n",
       "    .dataframe tbody tr th:only-of-type {\n",
       "        vertical-align: middle;\n",
       "    }\n",
       "\n",
       "    .dataframe tbody tr th {\n",
       "        vertical-align: top;\n",
       "    }\n",
       "\n",
       "    .dataframe thead th {\n",
       "        text-align: right;\n",
       "    }\n",
       "</style>\n",
       "<table border=\"1\" class=\"dataframe\">\n",
       "  <thead>\n",
       "    <tr style=\"text-align: right;\">\n",
       "      <th></th>\n",
       "      <th>data_all</th>\n",
       "    </tr>\n",
       "    <tr>\n",
       "      <th>date</th>\n",
       "      <th></th>\n",
       "    </tr>\n",
       "  </thead>\n",
       "  <tbody>\n",
       "    <tr>\n",
       "      <th>2018-12-03</th>\n",
       "      <td>254626.0</td>\n",
       "    </tr>\n",
       "    <tr>\n",
       "      <th>2018-12-10</th>\n",
       "      <td>226611.0</td>\n",
       "    </tr>\n",
       "    <tr>\n",
       "      <th>2018-12-17</th>\n",
       "      <td>232909.0</td>\n",
       "    </tr>\n",
       "    <tr>\n",
       "      <th>2018-12-24</th>\n",
       "      <td>236732.0</td>\n",
       "    </tr>\n",
       "    <tr>\n",
       "      <th>2018-12-31</th>\n",
       "      <td>63093.0</td>\n",
       "    </tr>\n",
       "  </tbody>\n",
       "</table>\n",
       "</div>"
      ],
      "text/plain": [
       "            data_all\n",
       "date                \n",
       "2018-12-03  254626.0\n",
       "2018-12-10  226611.0\n",
       "2018-12-17  232909.0\n",
       "2018-12-24  236732.0\n",
       "2018-12-31   63093.0"
      ]
     },
     "execution_count": 38,
     "metadata": {},
     "output_type": "execute_result"
    }
   ],
   "source": [
    "df4.tail()"
   ]
  },
  {
   "cell_type": "code",
   "execution_count": 39,
   "metadata": {},
   "outputs": [],
   "source": [
    "# fix the last record\n",
    "df4.iloc[-1,:] = 254626.0"
   ]
  },
  {
   "cell_type": "code",
   "execution_count": 40,
   "metadata": {},
   "outputs": [
    {
     "data": {
      "text/html": [
       "<div>\n",
       "<style scoped>\n",
       "    .dataframe tbody tr th:only-of-type {\n",
       "        vertical-align: middle;\n",
       "    }\n",
       "\n",
       "    .dataframe tbody tr th {\n",
       "        vertical-align: top;\n",
       "    }\n",
       "\n",
       "    .dataframe thead th {\n",
       "        text-align: right;\n",
       "    }\n",
       "</style>\n",
       "<table border=\"1\" class=\"dataframe\">\n",
       "  <thead>\n",
       "    <tr style=\"text-align: right;\">\n",
       "      <th></th>\n",
       "      <th>data_all</th>\n",
       "    </tr>\n",
       "    <tr>\n",
       "      <th>date</th>\n",
       "      <th></th>\n",
       "    </tr>\n",
       "  </thead>\n",
       "  <tbody>\n",
       "    <tr>\n",
       "      <th>2018-12-03</th>\n",
       "      <td>254626.0</td>\n",
       "    </tr>\n",
       "    <tr>\n",
       "      <th>2018-12-10</th>\n",
       "      <td>226611.0</td>\n",
       "    </tr>\n",
       "    <tr>\n",
       "      <th>2018-12-17</th>\n",
       "      <td>232909.0</td>\n",
       "    </tr>\n",
       "    <tr>\n",
       "      <th>2018-12-24</th>\n",
       "      <td>236732.0</td>\n",
       "    </tr>\n",
       "    <tr>\n",
       "      <th>2018-12-31</th>\n",
       "      <td>254626.0</td>\n",
       "    </tr>\n",
       "  </tbody>\n",
       "</table>\n",
       "</div>"
      ],
      "text/plain": [
       "            data_all\n",
       "date                \n",
       "2018-12-03  254626.0\n",
       "2018-12-10  226611.0\n",
       "2018-12-17  232909.0\n",
       "2018-12-24  236732.0\n",
       "2018-12-31  254626.0"
      ]
     },
     "execution_count": 40,
     "metadata": {},
     "output_type": "execute_result"
    }
   ],
   "source": [
    "df4.tail()"
   ]
  },
  {
   "cell_type": "code",
   "execution_count": 41,
   "metadata": {},
   "outputs": [],
   "source": [
    "df4.to_csv('my_clean_data4.csv')"
   ]
  },
  {
   "cell_type": "code",
   "execution_count": 42,
   "metadata": {},
   "outputs": [],
   "source": [
    "#df4 =pd.read_csv('my_clean_data4.csv')"
   ]
  },
  {
   "cell_type": "code",
   "execution_count": 43,
   "metadata": {},
   "outputs": [
    {
     "data": {
      "text/plain": [
       "(157, 1)"
      ]
     },
     "execution_count": 43,
     "metadata": {},
     "output_type": "execute_result"
    }
   ],
   "source": [
    "df4.shape"
   ]
  },
  {
   "cell_type": "code",
   "execution_count": 44,
   "metadata": {},
   "outputs": [
    {
     "data": {
      "image/png": "[encoded data removed]",
      "text/plain": [
       "<Figure size 1080x432 with 1 Axes>"
      ]
     },
     "metadata": {
      "needs_background": "light"
     },
     "output_type": "display_data"
    }
   ],
   "source": [
    "df4.plot(figsize=(15, 6))\n",
    "plt.show()"
   ]
  },
  {
   "cell_type": "code",
   "execution_count": null,
   "metadata": {},
   "outputs": [],
   "source": []
  },
  {
   "cell_type": "code",
   "execution_count": 45,
   "metadata": {},
   "outputs": [],
   "source": [
    "y = df4['data_all'].resample('MS').sum()"
   ]
  },
  {
   "cell_type": "code",
   "execution_count": 46,
   "metadata": {},
   "outputs": [
    {
     "data": {
      "text/plain": [
       "(36,)"
      ]
     },
     "execution_count": 46,
     "metadata": {},
     "output_type": "execute_result"
    }
   ],
   "source": [
    "y.shape"
   ]
  },
  {
   "cell_type": "code",
   "execution_count": 47,
   "metadata": {},
   "outputs": [
    {
     "data": {
      "text/plain": [
       "date\n",
       "2016-01-01    291738.0\n",
       "2016-02-01    443577.0\n",
       "2016-03-01    329799.0\n",
       "2016-04-01    378593.0\n",
       "2016-05-01    454343.0\n",
       "Freq: MS, Name: data_all, dtype: float64"
      ]
     },
     "execution_count": 47,
     "metadata": {},
     "output_type": "execute_result"
    }
   ],
   "source": [
    "y.head()"
   ]
  },
  {
   "cell_type": "code",
   "execution_count": 48,
   "metadata": {},
   "outputs": [
    {
     "data": {
      "image/png": "[encoded data removed]",
      "text/plain": [
       "<Figure size 1080x432 with 1 Axes>"
      ]
     },
     "metadata": {
      "needs_background": "light"
     },
     "output_type": "display_data"
    }
   ],
   "source": [
    "y.plot(figsize=(15, 6))\n",
    "plt.show()"
   ]
  },
  {
   "cell_type": "code",
   "execution_count": null,
   "metadata": {},
   "outputs": [],
   "source": []
  },
  {
   "cell_type": "code",
   "execution_count": 49,
   "metadata": {},
   "outputs": [
    {
     "data": {
      "image/png": "[encoded data removed]",
      "text/plain": [
       "<Figure size 1296x576 with 4 Axes>"
      ]
     },
     "metadata": {
      "needs_background": "light"
     },
     "output_type": "display_data"
    }
   ],
   "source": [
    "from pylab import rcParams\n",
    "rcParams['figure.figsize'] = 18, 8\n",
    "\n",
    "decomposition = sm.tsa.seasonal_decompose(y, model='additive')\n",
    "fig = decomposition.plot()\n",
    "plt.show()"
   ]
  },
  {
   "cell_type": "code",
   "execution_count": 50,
   "metadata": {},
   "outputs": [
    {
     "name": "stdout",
     "output_type": "stream",
     "text": [
      "Examples of parameter combinations for Seasonal ARIMA...\n",
      "SARIMAX: (0, 0, 1) x (0, 0, 1, 12)\n",
      "SARIMAX: (0, 0, 1) x (0, 1, 0, 12)\n",
      "SARIMAX: (0, 1, 0) x (0, 1, 1, 12)\n",
      "SARIMAX: (0, 1, 0) x (1, 0, 0, 12)\n"
     ]
    }
   ],
   "source": [
    "p = d = q = range(0, 2)\n",
    "pdq = list(itertools.product(p, d, q))\n",
    "seasonal_pdq = [(x[0], x[1], x[2], 12) for x in list(itertools.product(p, d, q))]\n",
    "\n",
    "print('Examples of parameter combinations for Seasonal ARIMA...')\n",
    "print('SARIMAX: {} x {}'.format(pdq[1], seasonal_pdq[1]))\n",
    "print('SARIMAX: {} x {}'.format(pdq[1], seasonal_pdq[2]))\n",
    "print('SARIMAX: {} x {}'.format(pdq[2], seasonal_pdq[3]))\n",
    "print('SARIMAX: {} x {}'.format(pdq[2], seasonal_pdq[4]))"
   ]
  },
  {
   "cell_type": "code",
   "execution_count": 51,
   "metadata": {},
   "outputs": [
    {
     "name": "stdout",
     "output_type": "stream",
     "text": [
      "ARIMA(0, 0, 0)x(0, 0, 0, 12)12 - AIC:1058.0035297195036\n",
      "ARIMA(0, 0, 0)x(0, 1, 0, 12)12 - AIC:649.8059997216213\n",
      "ARIMA(0, 0, 0)x(1, 0, 0, 12)12 - AIC:653.4123371383095\n",
      "ARIMA(0, 0, 0)x(1, 1, 0, 12)12 - AIC:327.3712083620327\n",
      "ARIMA(0, 0, 1)x(0, 0, 0, 12)12 - AIC:1008.7030396998434\n",
      "ARIMA(0, 0, 1)x(0, 1, 0, 12)12 - AIC:614.5039234057523\n",
      "ARIMA(0, 0, 1)x(1, 0, 0, 12)12 - AIC:708.6346695914793\n",
      "ARIMA(0, 0, 1)x(1, 1, 0, 12)12 - AIC:334.58687963256705\n",
      "ARIMA(0, 1, 0)x(0, 0, 0, 12)12 - AIC:925.4002034103015\n",
      "ARIMA(0, 1, 0)x(0, 1, 0, 12)12 - AIC:599.2110702032029\n",
      "ARIMA(0, 1, 0)x(1, 0, 0, 12)12 - AIC:626.9524062430211\n",
      "ARIMA(0, 1, 0)x(1, 1, 0, 12)12 - AIC:301.4661571475256\n",
      "ARIMA(0, 1, 1)x(0, 0, 0, 12)12 - AIC:891.7274683458644\n",
      "ARIMA(0, 1, 1)x(0, 1, 0, 12)12 - AIC:562.607599668507\n",
      "ARIMA(0, 1, 1)x(1, 0, 0, 12)12 - AIC:617.7008979904558\n",
      "ARIMA(0, 1, 1)x(1, 1, 0, 12)12 - AIC:295.972074914095\n",
      "ARIMA(1, 0, 0)x(0, 0, 0, 12)12 - AIC:954.1592869555988\n",
      "ARIMA(1, 0, 0)x(0, 1, 0, 12)12 - AIC:626.202815348791\n",
      "ARIMA(1, 0, 0)x(1, 0, 0, 12)12 - AIC:624.7441198916678\n",
      "ARIMA(1, 0, 0)x(1, 1, 0, 12)12 - AIC:303.05253571273323\n",
      "ARIMA(1, 0, 1)x(0, 0, 0, 12)12 - AIC:916.6107753646941\n",
      "ARIMA(1, 0, 1)x(0, 1, 0, 12)12 - AIC:589.1983847337808\n",
      "ARIMA(1, 0, 1)x(1, 0, 0, 12)12 - AIC:616.5857159914605\n",
      "ARIMA(1, 0, 1)x(1, 1, 0, 12)12 - AIC:297.34361284109934\n",
      "ARIMA(1, 1, 0)x(0, 0, 0, 12)12 - AIC:919.2013404002082\n",
      "ARIMA(1, 1, 0)x(0, 1, 0, 12)12 - AIC:590.722388806496\n",
      "ARIMA(1, 1, 0)x(1, 0, 0, 12)12 - AIC:593.0771918787603\n",
      "ARIMA(1, 1, 0)x(1, 1, 0, 12)12 - AIC:269.6924930897458\n",
      "ARIMA(1, 1, 1)x(0, 0, 0, 12)12 - AIC:893.3853358972351\n",
      "ARIMA(1, 1, 1)x(0, 1, 0, 12)12 - AIC:564.5365148135411\n",
      "ARIMA(1, 1, 1)x(1, 0, 0, 12)12 - AIC:592.2841169702886\n",
      "ARIMA(1, 1, 1)x(1, 1, 0, 12)12 - AIC:271.1069676601286\n"
     ]
    }
   ],
   "source": [
    "for param in pdq:\n",
    "    for param_seasonal in seasonal_pdq:\n",
    "        try:\n",
    "            mod = sm.tsa.statespace.SARIMAX(y,\n",
    "                                            order=param,\n",
    "                                            seasonal_order=param_seasonal,\n",
    "                                            enforce_stationarity=False,\n",
    "                                            enforce_invertibility=False)\n",
    "\n",
    "            results = mod.fit()\n",
    "\n",
    "            print('ARIMA{}x{}12 - AIC:{}'.format(param, param_seasonal, results.aic))\n",
    "        except:\n",
    "            continue"
   ]
  },
  {
   "cell_type": "code",
   "execution_count": 79,
   "metadata": {},
   "outputs": [
    {
     "name": "stdout",
     "output_type": "stream",
     "text": [
      "==============================================================================\n",
      "                 coef    std err          z      P>|z|      [0.025      0.975]\n",
      "------------------------------------------------------------------------------\n",
      "ar.L1         -0.6543      0.832     -0.786      0.432      -2.286       0.977\n",
      "ma.L1         -0.3922      0.550     -0.712      0.476      -1.471       0.687\n",
      "ar.S.L12       0.4914      0.652      0.753      0.451      -0.787       1.770\n",
      "sigma2      2.378e+10    1.1e-11   2.16e+21      0.000    2.38e+10    2.38e+10\n",
      "==============================================================================\n"
     ]
    }
   ],
   "source": [
    "#ARIMA(1, 1, 1)x(1, 1, 0, 12)12 - AIC:271.1069676601286\n",
    "mod = sm.tsa.statespace.SARIMAX(y,\n",
    "                                order=(1, 1, 1),\n",
    "                                seasonal_order=(1, 1, 0, 12),\n",
    "                                enforce_stationarity=False,\n",
    "                                enforce_invertibility=False)\n",
    "\n",
    "results = mod.fit()\n",
    "\n",
    "print(results.summary().tables[1])"
   ]
  },
  {
   "cell_type": "code",
   "execution_count": 71,
   "metadata": {},
   "outputs": [
    {
     "data": {
      "image/png": "[encoded data removed]",
      "text/plain": [
       "<Figure size 1152x576 with 4 Axes>"
      ]
     },
     "metadata": {
      "needs_background": "light"
     },
     "output_type": "display_data"
    }
   ],
   "source": [
    "results.plot_diagnostics(figsize=(16, 8))\n",
    "plt.show()"
   ]
  },
  {
   "cell_type": "code",
   "execution_count": 80,
   "metadata": {},
   "outputs": [
    {
     "data": {
      "image/png": "[encoded data removed]",
      "text/plain": [
       "<Figure size 1008x504 with 1 Axes>"
      ]
     },
     "metadata": {
      "needs_background": "light"
     },
     "output_type": "display_data"
    }
   ],
   "source": [
    "pred = results.get_prediction(start=pd.to_datetime('2018-01-01'), dynamic=False)\n",
    "pred_ci = pred.conf_int()\n",
    "\n",
    "ax = y['2016':].plot(label='observed')\n",
    "pred.predicted_mean.plot(ax=ax, label='One-step ahead Forecast', alpha=.7, figsize=(14, 7))\n",
    "\n",
    "ax.fill_between(pred_ci.index,\n",
    "                pred_ci.iloc[:, 0],\n",
    "                pred_ci.iloc[:, 1], color='k', alpha=.2)\n",
    "\n",
    "ax.set_xlabel('Date')\n",
    "ax.set_ylabel('Data Usage MB')\n",
    "plt.legend()\n",
    "\n",
    "plt.show()"
   ]
  },
  {
   "cell_type": "code",
   "execution_count": null,
   "metadata": {},
   "outputs": [],
   "source": []
  },
  {
   "cell_type": "code",
   "execution_count": 81,
   "metadata": {},
   "outputs": [
    {
     "name": "stdout",
     "output_type": "stream",
     "text": [
      "The Mean Squared Error of our forecasts is 24400159906.51\n"
     ]
    }
   ],
   "source": [
    "y_forecasted = pred.predicted_mean\n",
    "y_truth = y['2016-01-01':'2018-12-01']\n",
    "\n",
    "# Compute the mean square error\n",
    "mse = ((y_forecasted - y_truth) ** 2).mean()\n",
    "print('The Mean Squared Error of our forecasts is {}'.format(round(mse, 2)))"
   ]
  },
  {
   "cell_type": "code",
   "execution_count": 82,
   "metadata": {},
   "outputs": [
    {
     "name": "stdout",
     "output_type": "stream",
     "text": [
      "The Root Mean Squared Error of our forecasts is 156205.51\n"
     ]
    }
   ],
   "source": [
    "print('The Root Mean Squared Error of our forecasts is {}'.format(round(np.sqrt(mse), 2)))"
   ]
  },
  {
   "cell_type": "code",
   "execution_count": 83,
   "metadata": {},
   "outputs": [
    {
     "data": {
      "text/plain": [
       "date\n",
       "2016-01-01    291738.0\n",
       "2016-02-01    443577.0\n",
       "2016-03-01    329799.0\n",
       "2016-04-01    378593.0\n",
       "2016-05-01    454343.0\n",
       "Freq: MS, Name: data_all, dtype: float64"
      ]
     },
     "execution_count": 83,
     "metadata": {},
     "output_type": "execute_result"
    }
   ],
   "source": [
    "y.head()"
   ]
  },
  {
   "cell_type": "code",
   "execution_count": 84,
   "metadata": {},
   "outputs": [
    {
     "data": {
      "text/plain": [
       "date\n",
       "2018-08-01    1038375.0\n",
       "2018-09-01     916237.0\n",
       "2018-10-01    1276623.0\n",
       "2018-11-01     992073.0\n",
       "2018-12-01    1205504.0\n",
       "Freq: MS, Name: data_all, dtype: float64"
      ]
     },
     "execution_count": 84,
     "metadata": {},
     "output_type": "execute_result"
    }
   ],
   "source": [
    "y.tail()"
   ]
  },
  {
   "cell_type": "code",
   "execution_count": 85,
   "metadata": {},
   "outputs": [
    {
     "data": {
      "text/plain": [
       "(36,)"
      ]
     },
     "execution_count": 85,
     "metadata": {},
     "output_type": "execute_result"
    }
   ],
   "source": [
    "y.shape"
   ]
  },
  {
   "cell_type": "code",
   "execution_count": 86,
   "metadata": {},
   "outputs": [
    {
     "data": {
      "image/png": "[encoded data removed]",
      "text/plain": [
       "<Figure size 1080x504 with 1 Axes>"
      ]
     },
     "metadata": {
      "needs_background": "light"
     },
     "output_type": "display_data"
    }
   ],
   "source": [
    "pred_uc = results.get_forecast(steps=12)\n",
    "pred_ci = pred_uc.conf_int()\n",
    "\n",
    "ax = y.plot(label='observed', figsize=(15, 7))\n",
    "pred_uc.predicted_mean.plot(ax=ax, label='Forecast')\n",
    "ax.fill_between(pred_ci.index,\n",
    "                pred_ci.iloc[:, 0],\n",
    "                pred_ci.iloc[:, 1], color='k', alpha=.25)\n",
    "ax.set_xlabel('Date')\n",
    "ax.set_ylabel('Data Usage MB')\n",
    "\n",
    "plt.legend()\n",
    "plt.show()"
   ]
  },
  {
   "cell_type": "code",
   "execution_count": null,
   "metadata": {},
   "outputs": [],
   "source": []
  },
  {
   "cell_type": "code",
   "execution_count": null,
   "metadata": {},
   "outputs": [],
   "source": []
  },
  {
   "cell_type": "code",
   "execution_count": null,
   "metadata": {},
   "outputs": [],
   "source": []
  },
  {
   "cell_type": "code",
   "execution_count": null,
   "metadata": {},
   "outputs": [],
   "source": []
  },
  {
   "cell_type": "code",
   "execution_count": null,
   "metadata": {},
   "outputs": [],
   "source": []
  },
  {
   "cell_type": "code",
   "execution_count": null,
   "metadata": {},
   "outputs": [],
   "source": []
  },
  {
   "cell_type": "code",
   "execution_count": null,
   "metadata": {},
   "outputs": [],
   "source": []
  },
  {
   "cell_type": "code",
   "execution_count": null,
   "metadata": {},
   "outputs": [],
   "source": []
  },
  {
   "cell_type": "code",
   "execution_count": null,
   "metadata": {},
   "outputs": [],
   "source": []
  }
 ],
 "metadata": {
  "kernelspec": {
   "display_name": "Python 3",
   "language": "python",
   "name": "python3"
  },
  "language_info": {
   "codemirror_mode": {
    "name": "ipython",
    "version": 3
   },
   "file_extension": ".py",
   "mimetype": "text/x-python",
   "name": "python",
   "nbconvert_exporter": "python",
   "pygments_lexer": "ipython3",
   "version": "3.6.8"
  }
 },
 "nbformat": 4,
 "nbformat_minor": 2
}
